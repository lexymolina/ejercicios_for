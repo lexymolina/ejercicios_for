{
  "nbformat": 4,
  "nbformat_minor": 0,
  "metadata": {
    "colab": {
      "provenance": [],
      "authorship_tag": "ABX9TyML90b+g6SMTHJ2lc5eCwlk",
      "include_colab_link": true
    },
    "kernelspec": {
      "name": "python3",
      "display_name": "Python 3"
    },
    "language_info": {
      "name": "python"
    }
  },
  "cells": [
    {
      "cell_type": "markdown",
      "metadata": {
        "id": "view-in-github",
        "colab_type": "text"
      },
      "source": [
        "<a href=\"https://colab.research.google.com/github/lexymolina/ejercicios_for/blob/main/ejercicios_for.ipynb\" target=\"_parent\"><img src=\"https://colab.research.google.com/assets/colab-badge.svg\" alt=\"Open In Colab\"/></a>"
      ]
    },
    {
      "cell_type": "markdown",
      "source": [
        "# instruccion repetitiva for"
      ],
      "metadata": {
        "id": "-NCXybX9q67D"
      }
    },
    {
      "cell_type": "code",
      "execution_count": null,
      "metadata": {
        "id": "aWBZA0GKqYQK"
      },
      "outputs": [],
      "source": [
        "# ejercicio 1: Mostrar los numeros del 1 al 10, sin usar instrucciones repetitivas\n",
        "\n",
        "print(1)\n",
        "print(2)\n",
        "print(3)\n",
        "print(4)\n",
        "print(5)\n",
        "print(6)\n",
        "print(7)\n",
        "print(8)\n",
        "print(9)\n",
        "print(10)"
      ]
    },
    {
      "cell_type": "code",
      "source": [
        "# ejercicio 2: Mostrar los numeros del 1 al 10, usando la instruccion repetitiva while\n",
        "\n",
        "contador = 1\n",
        "print(contador)\n",
        "while contador <10:\n",
        "  #contador = contador + 1\n",
        "  contador += 1\n",
        "  print(contador)"
      ],
      "metadata": {
        "id": "ziByRBvvtcdr"
      },
      "execution_count": null,
      "outputs": []
    },
    {
      "cell_type": "code",
      "source": [
        "# ejercicio 3: Mostrar los numeros de 1 al 10, usando la instruccion for y una lista como iterable \n",
        "\n",
        "for i in (1,2,3,4,5,6,7,8,9,10):\n",
        "  print(i)"
      ],
      "metadata": {
        "id": "3SO2KuY0vOrC"
      },
      "execution_count": null,
      "outputs": []
    },
    {
      "cell_type": "code",
      "source": [
        "# ejercicio 4: Mostrar los numeros del 1 al 10, usando la instruccion for y la funcion range\n",
        "\n",
        "for i in range(1,11):\n",
        "  print(i)"
      ],
      "metadata": {
        "id": "i5ZRKNQ4wyY7"
      },
      "execution_count": null,
      "outputs": []
    },
    {
      "cell_type": "code",
      "source": [
        "# ejercicio 5: Mostrar una frase 10 veces, usando la instruccion for y una lista\n",
        "\n",
        "lista = (1,2,3,4,5,6,7,8,9,10)\n",
        "for i in lista:\n",
        "  print(\"sistemas, la mejor!!!\")"
      ],
      "metadata": {
        "id": "GaAKxoNGxyN3"
      },
      "execution_count": null,
      "outputs": []
    },
    {
      "cell_type": "code",
      "source": [
        "# ejericio 6: Mostrar la silaba inicial de los dias de la semana, usando for y una lista con la silaba inicial de los dias\n",
        "\n",
        "dias_semana = [\"lu\", \"ma\", \"mi\", \"ju\", \"vi\", \"sa\", \"do\"]\n",
        "for i in dias_semana:\n",
        "  print(i)"
      ],
      "metadata": {
        "id": "juZ11pm8ysgf"
      },
      "execution_count": null,
      "outputs": []
    },
    {
      "cell_type": "code",
      "source": [
        "# ejercicio 7: Mostrar una lista de distintos tipos de datos, usando for\n",
        "\n",
        "lista = [1, 3, 4, 9, True, \"Nestor\", 8, \"Guanenta\"]\n",
        "for i in lista:\n",
        "  print(i)"
      ],
      "metadata": {
        "id": "1DEzVq6JzjTy"
      },
      "execution_count": null,
      "outputs": []
    },
    {
      "cell_type": "code",
      "source": [
        "# ejercicio 8: Ingresar su nombre y mostrarlo letra a letra, usando for\n",
        "\n",
        "nombre = input(\"digite su nombre: \")\n",
        "for letra in nombre:\n",
        "  print(letra)"
      ],
      "metadata": {
        "id": "x01IXgtl0Ow9"
      },
      "execution_count": null,
      "outputs": []
    },
    {
      "cell_type": "code",
      "source": [
        "# ejercicio 9: Ingresar su nombre y mostrarlo letra a letra, usando for, cambiando por asterisco * a la vocal e\n",
        "\n",
        "nombre = input(\"digite su nombre: \")\n",
        "for letra in nombre:\n",
        "  if letra == \"e\":\n",
        "    print(\"*\")\n",
        "  else:\n",
        "    print(letra)"
      ],
      "metadata": {
        "id": "y_EZG5WU09fi"
      },
      "execution_count": null,
      "outputs": []
    },
    {
      "cell_type": "code",
      "source": [
        "# ejercicio 10: Ingresar su nombre y mostarlo letra a letra, en mayuscula, usando for\n",
        "\n",
        "nombre = input(\"digite su nombre: \")\n",
        "for letra in nombre:\n",
        "  print(letra.upper())"
      ],
      "metadata": {
        "id": "6oJaP9QRAA-i"
      },
      "execution_count": null,
      "outputs": []
    },
    {
      "cell_type": "code",
      "source": [
        "# ejercicio 11: Imprimir lista de numeros usando for y range \n",
        "\n",
        "print(\"muestra los numeros del 0 al 9\")\n",
        "for i in range(10):\n",
        "  print(i)\n",
        "\n",
        "print(\"numeros del 1 al 10\")\n",
        "for i in range(1,11):\n",
        "  print(i)\n",
        "\n",
        "print(\"10 veces la frase\")\n",
        "for i in range(10):\n",
        "  print(\"sistemas la mejor\")\n",
        "\n",
        "print(\"10 veces la frase i =  \")\n",
        "for i in range(10):\n",
        "  print(\"i = \" + str(i))\n",
        "\n",
        "print(\"10 veces la frase i = \")\n",
        "for i in range(10):\n",
        "  print(f\" i = {i}\")\n",
        "\n",
        "print(\"rango del 7 al 18, incrementando de 4 en 4\")\n",
        "for i in range(7,19,4):\n",
        "  print(i)\n",
        "\n",
        "print(\"convierte rango en lista a, y la muestra\")\n",
        "a = list(range(1000))\n",
        "print(a)"
      ],
      "metadata": {
        "id": "wL683qQ_AtMC"
      },
      "execution_count": null,
      "outputs": []
    }
  ]
}